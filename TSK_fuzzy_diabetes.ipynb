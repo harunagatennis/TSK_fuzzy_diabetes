{
 "cells": [
  {
   "cell_type": "code",
   "execution_count": 120,
   "id": "c6e4336a-8c59-48b1-960e-2c0dec9706bc",
   "metadata": {},
   "outputs": [],
   "source": [
    "#TSKファジィ推論を示す\n",
    "import numpy as np\n",
    "import pandas as pd\n",
    "import random\n",
    "import math\n",
    "import sys"
   ]
  },
  {
   "cell_type": "code",
   "execution_count": 121,
   "id": "97b57d7d-7706-471d-ba09-d9cd29c39384",
   "metadata": {},
   "outputs": [],
   "source": [
    "#まず医療診断データを読み取る\n",
    "diabetes_data = pd.read_csv('fuzzy_diabetes2_1.csv')"
   ]
  },
  {
   "cell_type": "code",
   "execution_count": 122,
   "id": "b92c6616-1a74-4340-82f2-951be8a24690",
   "metadata": {},
   "outputs": [],
   "source": [
    "#教師データの数は73、テストデータの数は72と設定する\n",
    "TEACHER_SIZE = 73\n",
    "TEST_SIZE = 72"
   ]
  },
  {
   "cell_type": "code",
   "execution_count": 123,
   "id": "1930fb6c-c996-4432-ab5f-7c95506d8df8",
   "metadata": {},
   "outputs": [],
   "source": [
    "#教師データとテストデータに分割する\n",
    "teacher_data = diabetes_data.iloc[0:TEACHER_SIZE]\n",
    "test_data = diabetes_data.iloc[TEACHER_SIZE:]"
   ]
  },
  {
   "cell_type": "code",
   "execution_count": 124,
   "id": "9ef716e7-fbef-4884-af65-cbdb86dc63c7",
   "metadata": {},
   "outputs": [],
   "source": [
    "#説明変数と被説明変数に分ける\n",
    "x_teacher_data = np.array(teacher_data[['input1','input2','input3','input4','input5']])\n",
    "y_teacher_data = np.array(teacher_data['output'])\n",
    "x_test_data = np.array(test_data[['input1','input2','input3','input4','input5']])\n",
    "y_test_data = np.array(test_data['output'])"
   ]
  },
  {
   "cell_type": "code",
   "execution_count": 125,
   "id": "efa655f6-084f-4edd-98bb-91896815faf4",
   "metadata": {},
   "outputs": [],
   "source": [
    "#ファジィルールの数と、ファジィ分割数、入力変数の数を設定する\n",
    "NUMBER_OF_FUZZY_PARTITION = 3\n",
    "NUMBER_OF_INPUT = 5\n",
    "NUMBER_OF_FUZZY_RULE = NUMBER_OF_FUZZY_PARTITION ** NUMBER_OF_INPUT"
   ]
  },
  {
   "cell_type": "code",
   "execution_count": 126,
   "id": "76104a1d-8dc6-443e-905e-30ae7458f3fe",
   "metadata": {},
   "outputs": [],
   "source": [
    "#前件部の初期値と後件部の初期値を設定する\n",
    "#前件部の中心と幅は、ルール数×各ルールにおける入力変数の数\n",
    "antecedent_center = np.empty((NUMBER_OF_FUZZY_RULE, NUMBER_OF_INPUT))\n",
    "antecedent_broad = np.empty((NUMBER_OF_FUZZY_RULE, NUMBER_OF_INPUT))\n",
    "consequent_part = np.empty((NUMBER_OF_FUZZY_RULE, TEACHER_SIZE+1))\n",
    "consequent = np.zeros(NUMBER_OF_FUZZY_RULE)"
   ]
  },
  {
   "cell_type": "code",
   "execution_count": 127,
   "id": "3bb181d2-3c80-41d2-8185-c81a03de2f7a",
   "metadata": {},
   "outputs": [],
   "source": [
    "#まず前件部の値を初期化する\n",
    "#ただし、ここは簡略型ファジィ推論と同様\n",
    "for i in range(NUMBER_OF_FUZZY_RULE):\n",
    "    for j in range(NUMBER_OF_INPUT):\n",
    "        if ((int)(i / (NUMBER_OF_FUZZY_PARTITION ** (NUMBER_OF_INPUT - (j+1))))) % NUMBER_OF_FUZZY_PARTITION == 0:\n",
    "            antecedent_center[i,j] = 0\n",
    "            antecedent_broad[i,j] = 1\n",
    "        elif ((int)(i / (NUMBER_OF_FUZZY_PARTITION ** (NUMBER_OF_INPUT - (j+1))))) % NUMBER_OF_FUZZY_PARTITION == 1:\n",
    "            antecedent_center[i,j] = 0.5\n",
    "            antecedent_broad[i,j] = 0.5\n",
    "        else:\n",
    "            antecedent_center[i,j] = 1\n",
    "            antecedent_broad[i,j] = 1"
   ]
  },
  {
   "cell_type": "code",
   "execution_count": 128,
   "id": "e0366eca-8ffb-405b-aed2-d6b2f100af3c",
   "metadata": {
    "collapsed": true,
    "jupyter": {
     "outputs_hidden": true
    },
    "tags": []
   },
   "outputs": [
    {
     "name": "stdout",
     "output_type": "stream",
     "text": [
      "[0.47 0.47 0.47 0.47 0.47 0.47 0.47 0.47 0.47 0.47 0.47 0.47 0.47 0.47\n",
      " 0.47 0.47 0.47 0.47 0.47 0.47 0.47 0.47 0.47 0.47 0.47 0.47 0.47 0.47\n",
      " 0.47 0.47 0.47 0.47 0.47 0.47 0.47 0.47 0.47 0.47 0.47 0.47 0.47 0.47\n",
      " 0.47 0.47 0.47 0.47 0.47 0.47 0.47 0.47 0.47 0.47 0.47 0.47 0.47 0.47\n",
      " 0.47 0.47 0.47 0.47 0.47 0.47 0.47 0.47 0.47 0.47 0.47 0.47 0.47 0.47\n",
      " 0.47 0.47 0.47 0.47 0.47 0.47 0.47 0.47 0.47 0.47 0.47 0.47 0.47 0.47\n",
      " 0.47 0.47 0.47 0.47 0.47 0.47 0.47 0.47 0.47 0.47 0.47 0.47 0.47 0.47\n",
      " 0.47 0.47 0.47 0.47 0.47 0.47 0.47 0.47 0.47 0.47 0.47 0.47 0.47 0.47\n",
      " 0.47 0.47 0.47 0.47 0.47 0.47 0.47 0.47 0.47 0.47 0.47 0.47 0.47 0.47\n",
      " 0.47 0.47 0.47 0.47 0.47 0.47 0.47 0.47 0.47 0.47 0.47 0.47 0.47 0.47\n",
      " 0.47 0.47 0.47 0.47 0.47 0.47 0.47 0.47 0.47 0.47 0.47 0.47 0.47 0.47\n",
      " 0.47 0.47 0.47 0.47 0.47 0.47 0.47 0.47 0.47 0.47 0.47 0.47 0.47 0.47\n",
      " 0.47 0.47 0.47 0.47 0.47 0.47 0.47 0.47 0.47 0.47 0.47 0.47 0.47 0.47\n",
      " 0.47 0.47 0.47 0.47 0.47 0.47 0.47 0.47 0.47 0.47 0.47 0.47 0.47 0.47\n",
      " 0.47 0.47 0.47 0.47 0.47 0.47 0.47 0.47 0.47 0.47 0.47 0.47 0.47 0.47\n",
      " 0.47 0.47 0.47 0.47 0.47 0.47 0.47 0.47 0.47 0.47 0.47 0.47 0.47 0.47\n",
      " 0.47 0.47 0.47 0.47 0.47 0.47 0.47 0.47 0.47 0.47 0.47 0.47 0.47 0.47\n",
      " 0.47 0.47 0.47 0.47 0.47]\n"
     ]
    }
   ],
   "source": [
    "#次に後件部の値を初期化する\n",
    "#後件部の値は簡略型とは違う\n",
    "#教師データに使う73データと定数の74項から後件部実数値は構成される\n",
    "#74番目の値は定数とする\n",
    "for i in range(NUMBER_OF_FUZZY_RULE):\n",
    "    for j in range(TEACHER_SIZE+1):\n",
    "        consequent_part[i,j] = 0.01\n",
    "for i in range(NUMBER_OF_FUZZY_RULE):\n",
    "    for j in range(TEACHER_SIZE+1):\n",
    "        if j == TEACHER_SIZE:\n",
    "            consequent[i] = consequent[i] + consequent_part[i,j]\n",
    "        else:\n",
    "            consequent[i] = consequent[i] + (consequent_part[i,j] * y_teacher_data[j])\n",
    "            #print(consequent_part[i,j] * y_teacher_data[j])\n",
    "print(consequent)"
   ]
  },
  {
   "cell_type": "code",
   "execution_count": null,
   "id": "83fe28de-46d8-4633-90ba-1d8219c7d4d0",
   "metadata": {},
   "outputs": [],
   "source": [
    "#次に教師データを用いて学習を行う\n",
    "#学習回数を設定する\n",
    "TRAIN_TIME = 500\n",
    "#学習係数を設定する\n",
    "LEARNING_ANTECEDENT_BROAD = 0.001\n",
    "LEARNING_ANTECEDENT_CENTER = 0.001\n",
    "LEARNING_CONSEQUENT = 0.001\n",
    "#まず、各ルールに基づいて入力変数をファジィ化（メンバシップ関数に代入）する\n",
    "membership_function = np.empty((NUMBER_OF_FUZZY_RULE, NUMBER_OF_INPUT))\n",
    "\n",
    "for time in range(TRAIN_TIME):\n",
    "    for i in range(TEACHER_SIZE):\n",
    "        delta_broad = np.empty((NUMBER_OF_FUZZY_RULE, NUMBER_OF_INPUT))\n",
    "        delta_center = np.empty((NUMBER_OF_FUZZY_RULE, NUMBER_OF_INPUT))\n",
    "        #適合度を初期化する\n",
    "        adaptability = np.ones(NUMBER_OF_FUZZY_RULE)\n",
    "        for j in range(NUMBER_OF_FUZZY_RULE):\n",
    "            for k in range(NUMBER_OF_INPUT):\n",
    "                if(x_teacher_data[i,k] >= antecedent_center[j,k] - antecedent_broad[j,k]) and x_teacher_data[i,k] <= antecedent_center[j,k]:\n",
    "                    membership_function[j,k] = (x_teacher_data[i,k] - (antecedent_center[j,k] - antecedent_broad[j,k])) / antecedent_broad[j,k]\n",
    "                    delta_broad[j,k] = (antecedent_center[j,k] - x_teacher_data[i,k]) / (antecedent_broad[j,k]**2)\n",
    "                    delta_center[j,k] = -(1 / antecedent_broad[j,k])\n",
    "                elif(x_teacher_data[i,k] > antecedent_center[j,k]) and (x_teacher_data[i,k] <= antecedent_center[j,k] + antecedent_broad[j,k]):\n",
    "                    membership_function[j,k] = -(x_teacher_data[i,k] - (antecedent_center[j,k] + antecedent_broad[j,k])) / antecedent_broad[j,k]\n",
    "                    delta_broad[j,k] = -(antecedent_center[j,k] - x_teacher_data[i,k]) / (antecedent_broad[j,k]**2)\n",
    "                    delta_center[j,k] = 1 / antecedent_broad[j,k]\n",
    "            #各ルールにおける適合度を求める\n",
    "            for k in range(NUMBER_OF_INPUT):\n",
    "                adaptability[j] = adaptability[j] * membership_function[j,k]\n",
    "        #各データに対して予測結果を求める\n",
    "        output = 0\n",
    "        output = np.sum(np.dot(adaptability, consequent)) / np.sum(adaptability)\n",
    "        if(time == TRAIN_TIME-1):\n",
    "            print(output, y_teacher_data[i])\n",
    "        #出力値を求めた次に後件部と前件部の更新を行う\n",
    "        #まずは後件部の値の更新を行う\n",
    "        #consequent_partの更新を行った後に、consequentに変換を行う\n",
    "        for j in range(NUMBER_OF_FUZZY_RULE):\n",
    "            for k in range(TEACHER_SIZE + 1):\n",
    "                if k == TEACHER_SIZE:\n",
    "                    consequent_part[j,k] = consequent_part[j,k] + (LEARNING_CONSEQUENT * adaptability[j] / np.sum(adaptability)) * (y_teacher_data[i] - output)\n",
    "                else:\n",
    "                    consequent_part[j,k] = consequent_part[j,k] + (LEARNING_CONSEQUENT * adaptability[j] / np.sum(adaptability)) * (y_teacher_data[i] - output) * y_teacher_data[k]\n",
    "        #次に前件部の値の更新を行う\n",
    "        for j in range(NUMBER_OF_FUZZY_RULE):\n",
    "            for k in range(NUMBER_OF_INPUT):\n",
    "                antecedent_center[j,k] = antecedent_center[j,k] + (LEARNING_ANTECEDENT_CENTER * adaptability[j] / np.sum(adaptability)) * (y_teacher_data[i] - output) * (consequent[j] - output) * delta_center[j,k]\n",
    "                antecedent_broad[j,k] = antecedent_broad[j,k] + (LEARNING_ANTECEDENT_BROAD * adaptability[j] / np.sum(adaptability)) * (y_teacher_data[i] - output) * (consequent[j] - output) * delta_broad[j,k]"
   ]
  },
  {
   "cell_type": "code",
   "execution_count": null,
   "id": "df9b0ab4-c9ff-4406-a649-fca8480147b2",
   "metadata": {},
   "outputs": [],
   "source": []
  }
 ],
 "metadata": {
  "kernelspec": {
   "display_name": "Python 3 (ipykernel)",
   "language": "python",
   "name": "python3"
  },
  "language_info": {
   "codemirror_mode": {
    "name": "ipython",
    "version": 3
   },
   "file_extension": ".py",
   "mimetype": "text/x-python",
   "name": "python",
   "nbconvert_exporter": "python",
   "pygments_lexer": "ipython3",
   "version": "3.9.12"
  }
 },
 "nbformat": 4,
 "nbformat_minor": 5
}
